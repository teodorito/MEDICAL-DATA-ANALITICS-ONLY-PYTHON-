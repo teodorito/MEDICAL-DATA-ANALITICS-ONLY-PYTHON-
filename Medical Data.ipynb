{
 "cells": [
  {
   "cell_type": "code",
   "execution_count": 52,
   "id": "dc53bc47-914c-4153-8c8b-d7f104d16bdf",
   "metadata": {},
   "outputs": [
    {
     "name": "stdout",
     "output_type": "stream",
     "text": [
      "Marina Allison   ,27   ,   31.1 , \n",
      "#7010.0   ;Markus Valdez   ,   30, \n",
      "22.4,   #4050.0 ;Connie Ballard ,43 \n",
      ",   25.3 , #12060.0 ;Darnell Weber   \n",
      ",   35   , 20.6   , #7500.0;\n",
      "Sylvie Charles   ,22, 22.1 \n",
      ",#3022.0   ;   Vinay Padilla,24,   \n",
      "26.9 ,#4620.0 ;Meredith Santiago, 51   , \n",
      "29.3 ,#16330.0;   Andre Mccarty, \n",
      "19,22.7 , #2900.0 ; \n",
      "Lorena Hodson ,65, 33.1 , #19370.0; \n",
      "Isaac Vu ,34, 24.8,   #7045.0\n"
     ]
    }
   ],
   "source": [
    "#DATA DESORDENADA\n",
    "medical_data = \\\n",
    "\"\"\"Marina Allison   ,27   ,   31.1 , \n",
    "#7010.0   ;Markus Valdez   ,   30, \n",
    "22.4,   #4050.0 ;Connie Ballard ,43 \n",
    ",   25.3 , #12060.0 ;Darnell Weber   \n",
    ",   35   , 20.6   , #7500.0;\n",
    "Sylvie Charles   ,22, 22.1 \n",
    ",#3022.0   ;   Vinay Padilla,24,   \n",
    "26.9 ,#4620.0 ;Meredith Santiago, 51   , \n",
    "29.3 ,#16330.0;   Andre Mccarty, \n",
    "19,22.7 , #2900.0 ; \n",
    "Lorena Hodson ,65, 33.1 , #19370.0; \n",
    "Isaac Vu ,34, 24.8,   #7045.0\"\"\"\n",
    "\n",
    "print(medical_data)"
   ]
  },
  {
   "cell_type": "code",
   "execution_count": 54,
   "id": "74fb3ae5-4f29-49ac-8b6b-1fa8bb396b21",
   "metadata": {},
   "outputs": [
    {
     "name": "stdout",
     "output_type": "stream",
     "text": [
      "Marina Allison   ,27   ,   31.1 , \n",
      "$7010.0   ;Markus Valdez   ,   30, \n",
      "22.4,   $4050.0 ;Connie Ballard ,43 \n",
      ",   25.3 , $12060.0 ;Darnell Weber   \n",
      ",   35   , 20.6   , $7500.0;\n",
      "Sylvie Charles   ,22, 22.1 \n",
      ",$3022.0   ;   Vinay Padilla,24,   \n",
      "26.9 ,$4620.0 ;Meredith Santiago, 51   , \n",
      "29.3 ,$16330.0;   Andre Mccarty, \n",
      "19,22.7 , $2900.0 ; \n",
      "Lorena Hodson ,65, 33.1 , $19370.0; \n",
      "Isaac Vu ,34, 24.8,   $7045.0\n"
     ]
    }
   ],
   "source": [
    "#REMPLAZAR # CON $\n",
    "updated_medical_data = medical_data.replace(\"#\", \"$\")\n",
    "print(updated_medical_data)"
   ]
  },
  {
   "cell_type": "code",
   "execution_count": 56,
   "id": "b82ad982-f3ce-4492-8bf5-743fd534a3b6",
   "metadata": {},
   "outputs": [
    {
     "name": "stdout",
     "output_type": "stream",
     "text": [
      "Tenemos un total de: 10 registros medicos\n"
     ]
    }
   ],
   "source": [
    "#LOOP PARA CONTAR EN NUMERO DE REGISTROS , CONTANDO EL \"$\"\n",
    "\n",
    "num_records = 0\n",
    "\n",
    "for character in updated_medical_data:\n",
    "    if character == \"$\":\n",
    "        num_records += 1\n",
    "\n",
    "print (\"Tenemos un total de: \" + str(num_records) + \" registros medicos\")"
   ]
  },
  {
   "cell_type": "code",
   "execution_count": 59,
   "id": "f3da5b7f-778f-48ad-a896-0e862304f0f4",
   "metadata": {},
   "outputs": [
    {
     "name": "stdout",
     "output_type": "stream",
     "text": [
      "['Marina Allison   ,27   ,   31.1 , \\n$7010.0   ', 'Markus Valdez   ,   30, \\n22.4,   $4050.0 ', 'Connie Ballard ,43 \\n,   25.3 , $12060.0 ', 'Darnell Weber   \\n,   35   , 20.6   , $7500.0', '\\nSylvie Charles   ,22, 22.1 \\n,$3022.0   ', '   Vinay Padilla,24,   \\n26.9 ,$4620.0 ', 'Meredith Santiago, 51   , \\n29.3 ,$16330.0', '   Andre Mccarty, \\n19,22.7 , $2900.0 ', ' \\nLorena Hodson ,65, 33.1 , $19370.0', ' \\nIsaac Vu ,34, 24.8,   $7045.0']\n"
     ]
    }
   ],
   "source": [
    "medical_data_split = updated_medical_data.split(\";\")\n",
    "print(medical_data_split)"
   ]
  },
  {
   "cell_type": "code",
   "execution_count": 63,
   "id": "ac3e9ca2-a17c-45c8-90b9-bc1eb56b499a",
   "metadata": {},
   "outputs": [
    {
     "name": "stdout",
     "output_type": "stream",
     "text": [
      "[['Marina Allison   ', '27   ', '   31.1 ', ' \\n$7010.0   '], ['Markus Valdez   ', '   30', ' \\n22.4', '   $4050.0 '], ['Connie Ballard ', '43 \\n', '   25.3 ', ' $12060.0 '], ['Darnell Weber   \\n', '   35   ', ' 20.6   ', ' $7500.0'], ['\\nSylvie Charles   ', '22', ' 22.1 \\n', '$3022.0   '], ['   Vinay Padilla', '24', '   \\n26.9 ', '$4620.0 '], ['Meredith Santiago', ' 51   ', ' \\n29.3 ', '$16330.0'], ['   Andre Mccarty', ' \\n19', '22.7 ', ' $2900.0 '], [' \\nLorena Hodson ', '65', ' 33.1 ', ' $19370.0'], [' \\nIsaac Vu ', '34', ' 24.8', '   $7045.0']]\n"
     ]
    }
   ],
   "source": [
    "medical_records = []\n",
    "\n",
    "for record in medical_data_split:\n",
    "    medical_records.append(record.split(','))\n",
    "print(medical_records)"
   ]
  },
  {
   "cell_type": "code",
   "execution_count": 70,
   "id": "7b7c5c4f-282b-40de-a260-4f42f40a209d",
   "metadata": {},
   "outputs": [
    {
     "name": "stdout",
     "output_type": "stream",
     "text": [
      "[['Marina Allison', '27', '31.1', '$7010.0'], ['Markus Valdez', '30', '22.4', '$4050.0'], ['Connie Ballard', '43', '25.3', '$12060.0'], ['Darnell Weber', '35', '20.6', '$7500.0'], ['Sylvie Charles', '22', '22.1', '$3022.0'], ['Vinay Padilla', '24', '26.9', '$4620.0'], ['Meredith Santiago', '51', '29.3', '$16330.0'], ['Andre Mccarty', '19', '22.7', '$2900.0'], ['Lorena Hodson', '65', '33.1', '$19370.0'], ['Isaac Vu', '34', '24.8', '$7045.0']]\n"
     ]
    }
   ],
   "source": [
    "medical_records_clean = []\n",
    "\n",
    "for record in medical_records:\n",
    "    record_clean = []\n",
    "    for item in record:\n",
    "        record_clean.append(item.strip())\n",
    "    medical_records_clean.append(record_clean)\n",
    "\n",
    "print(medical_records_clean)\n"
   ]
  },
  {
   "cell_type": "code",
   "execution_count": 73,
   "id": "40468b29-3c5d-462c-b1bb-bd1ea9ffd2b2",
   "metadata": {},
   "outputs": [
    {
     "name": "stdout",
     "output_type": "stream",
     "text": [
      "MARINA ALLISON\n",
      "MARKUS VALDEZ\n",
      "CONNIE BALLARD\n",
      "DARNELL WEBER\n",
      "SYLVIE CHARLES\n",
      "VINAY PADILLA\n",
      "MEREDITH SANTIAGO\n",
      "ANDRE MCCARTY\n",
      "LORENA HODSON\n",
      "ISAAC VU\n"
     ]
    }
   ],
   "source": [
    "for record in medical_records_clean:\n",
    "    record[0] = record[0].upper()\n",
    "    print(record[0])"
   ]
  },
  {
   "cell_type": "code",
   "execution_count": 79,
   "id": "8128b6e1-510b-4cf0-8a1a-c8c95cbaf41e",
   "metadata": {},
   "outputs": [
    {
     "name": "stdout",
     "output_type": "stream",
     "text": [
      "Names: ['MARINA ALLISON', 'MARKUS VALDEZ', 'CONNIE BALLARD', 'DARNELL WEBER', 'SYLVIE CHARLES', 'VINAY PADILLA', 'MEREDITH SANTIAGO', 'ANDRE MCCARTY', 'LORENA HODSON', 'ISAAC VU']\n",
      "Ages: ['27', '30', '43', '35', '22', '24', '51', '19', '65', '34']\n",
      "BMI: ['31.1', '22.4', '25.3', '20.6', '22.1', '26.9', '29.3', '22.7', '33.1', '24.8']\n",
      "Insurance Costs: ['$7010.0', '$4050.0', '$12060.0', '$7500.0', '$3022.0', '$4620.0', '$16330.0', '$2900.0', '$19370.0', '$7045.0']\n"
     ]
    }
   ],
   "source": [
    "names = []\n",
    "ages = []\n",
    "bmis = []\n",
    "insurance_costs = []\n",
    "\n",
    "for record in medical_records_clean:\n",
    "    names.append(record[0])\n",
    "    ages.append(record[1])\n",
    "    bmis.append(record[2])\n",
    "    insurance_costs.append(record[3])\n",
    "\n",
    "\n",
    "print(\"Names: \" + str(names))\n",
    "print(\"Ages: \" + str(ages))\n",
    "print(\"BMI: \" + str(bmis))\n",
    "print(\"Insurance Costs: \" + str(insurance_costs))\n",
    "\n"
   ]
  },
  {
   "cell_type": "code",
   "execution_count": null,
   "id": "6c222bc3-64f8-4c0a-bed7-a49679ece199",
   "metadata": {},
   "outputs": [],
   "source": []
  }
 ],
 "metadata": {
  "kernelspec": {
   "display_name": "Python 3 (ipykernel)",
   "language": "python",
   "name": "python3"
  },
  "language_info": {
   "codemirror_mode": {
    "name": "ipython",
    "version": 3
   },
   "file_extension": ".py",
   "mimetype": "text/x-python",
   "name": "python",
   "nbconvert_exporter": "python",
   "pygments_lexer": "ipython3",
   "version": "3.12.4"
  }
 },
 "nbformat": 4,
 "nbformat_minor": 5
}
